{
  "cells": [
    {
      "metadata": {
        "trusted": true
      },
      "cell_type": "code",
      "source": "contador = 1\nlimite_estatura = 0\nsuma_estatura = 0\npromedio_estatura = 0 \n",
      "execution_count": 37,
      "outputs": []
    },
    {
      "metadata": {},
      "cell_type": "markdown",
      "source": "##### estatura = input (\"ingrese un numero de estaturas:\\n\" ) \nestatura = int (estatura) "
    },
    {
      "metadata": {},
      "cell_type": "markdown",
      "source": ""
    },
    {
      "metadata": {
        "trusted": true
      },
      "cell_type": "code",
      "source": "limite_estatura = input(\"ingrese un numero de estaturas:\\n\")\nlimite_estatura = int (limite_estatura)",
      "execution_count": 40,
      "outputs": [
        {
          "output_type": "stream",
          "name": "stdout",
          "text": "ingrese un numero de estaturas:\n6\n"
        }
      ]
    },
    {
      "metadata": {
        "trusted": true
      },
      "cell_type": "code",
      "source": "while contador <= limite_estatura:\n    estatura = input(\"ingrese una estatura:\\n\")\n    estatura = float(estatura)\n    suma_estatura = suma_estatura + estatura \n    contador = contador + 1\npromedio_estatura = suma_estatura / limite_estatura\nprint (\"el promedio de la edad es\\n\")\nprint (promedio_estatura)\n        \n    ",
      "execution_count": 42,
      "outputs": [
        {
          "output_type": "stream",
          "text": "el promedio de la edad es\n\n5.833333333333333\n",
          "name": "stdout"
        }
      ]
    },
    {
      "metadata": {
        "trusted": true
      },
      "cell_type": "code",
      "source": "",
      "execution_count": null,
      "outputs": []
    }
  ],
  "metadata": {
    "kernelspec": {
      "name": "python36",
      "display_name": "Python 3.6",
      "language": "python"
    },
    "language_info": {
      "mimetype": "text/x-python",
      "nbconvert_exporter": "python",
      "name": "python",
      "pygments_lexer": "ipython3",
      "version": "3.6.6",
      "file_extension": ".py",
      "codemirror_mode": {
        "version": 3,
        "name": "ipython"
      }
    }
  },
  "nbformat": 4,
  "nbformat_minor": 2
}