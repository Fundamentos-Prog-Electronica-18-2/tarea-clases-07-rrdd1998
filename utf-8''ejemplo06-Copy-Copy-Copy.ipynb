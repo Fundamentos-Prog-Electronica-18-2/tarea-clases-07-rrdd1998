{
  "cells": [
    {
      "metadata": {
        "trusted": true
      },
      "cell_type": "code",
      "source": "# tabla de multiplicar\noperacion = 0\ncontador = 1 \nlimite = 10\nnumero = 0\ncadena_presentar = \"\"\ncaso = 0",
      "execution_count": 11,
      "outputs": []
    },
    {
      "metadata": {
        "trusted": true
      },
      "cell_type": "code",
      "source": "caso = input(\"ingrese el caso :\\n\") \ncaso= int(caso)\nnumero = input (\"ingrese un numero para operar:\\n\")\nnumero = int (numero)",
      "execution_count": 15,
      "outputs": [
        {
          "output_type": "stream",
          "name": "stdout",
          "text": "ingrese el caso :\n3\ningrese un numero para operar:\n3\n"
        }
      ]
    },
    {
      "metadata": {
        "trusted": true
      },
      "cell_type": "code",
      "source": "if caso == 1:\n    while contador <= limite:\n        operacion = numero * contador \n        cadena_presentar= str(numero) + \"*\" + str(contador) + \\\n        \"=\" + str (operacion)\n        print (cadena_presentar)\n        contador = contador + 1\nelse: \n    if caso == 2:\n        while contador <= limite:\n            operacion = numero + contador \n            cadena_presentar= str(numero) + \"+\" + str(contador) + \\\n            \"=\" + str (operacion)\n            print (cadena_presentar)\n            contador = contador + 1\n    else:\n        print (\"usted a ingresado la opcion incorrecta\")",
      "execution_count": 16,
      "outputs": [
        {
          "output_type": "stream",
          "text": "usted a ingresado la opcion incorrecta\n",
          "name": "stdout"
        }
      ]
    },
    {
      "metadata": {
        "trusted": true
      },
      "cell_type": "code",
      "source": "",
      "execution_count": null,
      "outputs": []
    }
  ],
  "metadata": {
    "kernelspec": {
      "name": "python36",
      "display_name": "Python 3.6",
      "language": "python"
    },
    "language_info": {
      "mimetype": "text/x-python",
      "nbconvert_exporter": "python",
      "name": "python",
      "pygments_lexer": "ipython3",
      "version": "3.6.6",
      "file_extension": ".py",
      "codemirror_mode": {
        "version": 3,
        "name": "ipython"
      }
    }
  },
  "nbformat": 4,
  "nbformat_minor": 2
}