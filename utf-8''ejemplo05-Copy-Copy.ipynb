{
  "cells": [
    {
      "metadata": {
        "trusted": true
      },
      "cell_type": "code",
      "source": "# tabla de multiplicar\noperacion = 0\ncontador = 1 \nlimite = 10\nnumero = 0\ncadena_presentar = \"\"",
      "execution_count": 12,
      "outputs": []
    },
    {
      "metadata": {
        "trusted": true
      },
      "cell_type": "code",
      "source": "numero = input(\"ingrese un numero:\\n\") \nnumero = int(numero)",
      "execution_count": 14,
      "outputs": [
        {
          "output_type": "stream",
          "name": "stdout",
          "text": "ingrese un numero:\n7\n"
        }
      ]
    },
    {
      "metadata": {
        "trusted": true
      },
      "cell_type": "code",
      "source": "\nwhile contador <= limite:\n    operacion = numero * contador \n    cadena_presentar= str(numero) + \"*\" + str(contador) + \\\n    \"=\" + str (operacion)\n    print (cadena_presentar)\n    contador = contador + 1",
      "execution_count": 15,
      "outputs": [
        {
          "output_type": "stream",
          "text": "7*1=7\n7*2=14\n7*3=21\n7*4=28\n7*5=35\n7*6=42\n7*7=49\n7*8=56\n7*9=63\n7*10=70\n",
          "name": "stdout"
        }
      ]
    },
    {
      "metadata": {
        "trusted": true
      },
      "cell_type": "code",
      "source": "",
      "execution_count": null,
      "outputs": []
    }
  ],
  "metadata": {
    "kernelspec": {
      "name": "python36",
      "display_name": "Python 3.6",
      "language": "python"
    },
    "language_info": {
      "mimetype": "text/x-python",
      "nbconvert_exporter": "python",
      "name": "python",
      "pygments_lexer": "ipython3",
      "version": "3.6.6",
      "file_extension": ".py",
      "codemirror_mode": {
        "version": 3,
        "name": "ipython"
      }
    }
  },
  "nbformat": 4,
  "nbformat_minor": 2
}